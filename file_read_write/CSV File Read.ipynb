{
 "cells": [
  {
   "cell_type": "code",
   "execution_count": 3,
   "metadata": {},
   "outputs": [
    {
     "name": "stdout",
     "output_type": "stream",
     "text": [
      "15-12-2018 16:05,11\n",
      "\n",
      "16-12-2018 16:05,12\n",
      "\n",
      "17-12-2018 16:05,13\n",
      "\n",
      "18-12-2018 16:05,14\n",
      "\n",
      "19-12-2018 16:05,15\n",
      "\n",
      "20-12-2018 16:05,16\n",
      "\n",
      "21-12-2018 16:05,17\n",
      "\n",
      "22-12-2018 16:05,18\n",
      "\n",
      "23-12-2018 16:05,19\n",
      "\n",
      "24-12-2018 16:05,20\n",
      "\n"
     ]
    }
   ],
   "source": [
    "#CSV file read using pyhton module\n",
    "f = open(\"csv_data.csv\", \"r\")\n",
    "\n",
    "#read a file line-by-line using a for loop. This is both efficient and fast.\n",
    "f.seek(0)\n",
    "for line in f:\n",
    "    print(line)"
   ]
  },
  {
   "cell_type": "code",
   "execution_count": 4,
   "metadata": {},
   "outputs": [
    {
     "data": {
      "text/plain": [
       "['15-12-2018 16:05,11\\n',\n",
       " '16-12-2018 16:05,12\\n',\n",
       " '17-12-2018 16:05,13\\n',\n",
       " '18-12-2018 16:05,14\\n',\n",
       " '19-12-2018 16:05,15\\n',\n",
       " '20-12-2018 16:05,16\\n',\n",
       " '21-12-2018 16:05,17\\n',\n",
       " '22-12-2018 16:05,18\\n',\n",
       " '23-12-2018 16:05,19\\n',\n",
       " '24-12-2018 16:05,20\\n']"
      ]
     },
     "execution_count": 4,
     "metadata": {},
     "output_type": "execute_result"
    }
   ],
   "source": [
    "#The readlines() method returns a list of remaining lines of the entire file.\n",
    "f.seek(0)\n",
    "f.readlines()"
   ]
  },
  {
   "cell_type": "markdown",
   "metadata": {},
   "source": [
    "### using Pandas"
   ]
  },
  {
   "cell_type": "code",
   "execution_count": 12,
   "metadata": {},
   "outputs": [
    {
     "name": "stdout",
     "output_type": "stream",
     "text": [
      "          TimeStamp  Usge\n",
      "0  15-12-2018 16:05    11\n",
      "1  16-12-2018 16:05    12\n",
      "2  17-12-2018 16:05    13\n",
      "3  18-12-2018 16:05    14\n",
      "4  19-12-2018 16:05    15\n",
      "5  20-12-2018 16:05    16\n",
      "6  21-12-2018 16:05    17\n",
      "7  22-12-2018 16:05    18\n",
      "8  23-12-2018 16:05    19\n",
      "9  24-12-2018 16:05    20\n"
     ]
    }
   ],
   "source": [
    "import pandas as pd\n",
    "\n",
    "\n",
    "df = pd.read_csv(\"./csv_data.csv\",names = [\"TimeStamp\",\"Usge\"])\n",
    "print(df)"
   ]
  },
  {
   "cell_type": "code",
   "execution_count": null,
   "metadata": {},
   "outputs": [],
   "source": []
  }
 ],
 "metadata": {
  "kernelspec": {
   "display_name": "Python 3",
   "language": "python",
   "name": "python3"
  },
  "language_info": {
   "codemirror_mode": {
    "name": "ipython",
    "version": 3
   },
   "file_extension": ".py",
   "mimetype": "text/x-python",
   "name": "python",
   "nbconvert_exporter": "python",
   "pygments_lexer": "ipython3",
   "version": "3.7.0"
  }
 },
 "nbformat": 4,
 "nbformat_minor": 2
}
